{
  "nbformat": 4,
  "nbformat_minor": 0,
  "metadata": {
    "colab": {
      "provenance": []
    },
    "kernelspec": {
      "name": "python3",
      "display_name": "Python 3"
    },
    "language_info": {
      "name": "python"
    }
  },
  "cells": [
    {
      "cell_type": "code",
      "execution_count": null,
      "metadata": {
        "id": "cvWR32MvkVuS",
        "outputId": "c0a56124-2f83-45e9-e900-8d73db21abd5",
        "colab": {
          "base_uri": "https://localhost:8080/"
        }
      },
      "outputs": [
        {
          "output_type": "stream",
          "name": "stdout",
          "text": [
            "Hello World.\n"
          ]
        }
      ],
      "source": [
        "print(\"Hello World.\")"
      ]
    },
    {
      "cell_type": "code",
      "source": [
        "import numpy as np\n",
        "import pandas as pd\n",
        "from matplotlib import pyplot as plt\n",
        "\n",
        "#!pip install openml\n",
        "from sklearn.datasets import fetch_openml#40996\n",
        "\n",
        "data = fetch_openml(data_id=40996, as_frame=False, cache=True)\n",
        "print(type(data))\n",
        "print(data.keys())"
      ],
      "metadata": {
        "id": "mJg1NDN_kZ-8",
        "colab": {
          "base_uri": "https://localhost:8080/"
        },
        "outputId": "e05b0cff-9ad7-4183-a583-169169c660a8"
      },
      "execution_count": 59,
      "outputs": [
        {
          "output_type": "stream",
          "name": "stdout",
          "text": [
            "<class 'sklearn.utils._bunch.Bunch'>\n",
            "dict_keys(['data', 'target', 'frame', 'categories', 'feature_names', 'target_names', 'DESCR', 'details', 'url'])\n"
          ]
        }
      ]
    },
    {
      "cell_type": "code",
      "source": [
        "# Extract features and target\n",
        "X = data.data\n",
        "y = data.target\n",
        "\n",
        "# Convert to numpy arrays if they aren't already\n",
        "X = np.array(X.astype(np.float32))\n",
        "y = np.array(y.astype(np.float32))\n",
        "\n",
        "# Combine features and target for shuffling\n",
        "combined_data = np.column_stack((y, X))\n",
        "\n",
        "# Shuffle the data\n",
        "np.random.shuffle(combined_data)\n",
        "\n",
        "# Split into dev and training sets\n",
        "dev_size = 1000\n",
        "data_dev = combined_data[:dev_size].T\n",
        "Y_dev = data_dev[0]\n",
        "X_dev = data_dev[1:]\n",
        "\n",
        "Y_dev = Y_dev.astype(np.int32)\n",
        "Y_train = Y_train.astype(np.int32)\n",
        "\n",
        "data_train = combined_data[dev_size:].T\n",
        "Y_train = data_train[0]\n",
        "X_train = data_train[1:]\n",
        "\n",
        "# Normalize the data\n",
        "X_dev = X_dev / 255.\n",
        "X_train = X_train / 255.\n",
        "\n",
        "# Get the shapes\n",
        "m_dev, n_dev = X_dev.shape\n",
        "m_train, n_train = X_train.shape\n",
        "\n",
        "print(f\"Development set shape: {X_dev.shape}\")\n",
        "print(f\"Training set shape: {X_train.shape}\")"
      ],
      "metadata": {
        "colab": {
          "base_uri": "https://localhost:8080/"
        },
        "id": "y7XKUHJczAZg",
        "outputId": "91b41971-a4f3-4f83-c44c-94d69796bea3"
      },
      "execution_count": 60,
      "outputs": [
        {
          "output_type": "stream",
          "name": "stdout",
          "text": [
            "Development set shape: (784, 1000)\n",
            "Training set shape: (784, 69000)\n"
          ]
        }
      ]
    },
    {
      "cell_type": "code",
      "source": [
        "Y_train"
      ],
      "metadata": {
        "colab": {
          "base_uri": "https://localhost:8080/"
        },
        "id": "Fyyt89Xt4ici",
        "outputId": "2cfbcdc1-c0d6-47bc-c2cd-21f7a64ddb31"
      },
      "execution_count": 61,
      "outputs": [
        {
          "output_type": "execute_result",
          "data": {
            "text/plain": [
              "array([5., 5., 6., ..., 1., 1., 8.], dtype=float32)"
            ]
          },
          "metadata": {},
          "execution_count": 61
        }
      ]
    },
    {
      "cell_type": "code",
      "source": [
        "def init_params():\n",
        "    W1 = np.random.rand(10, 784).astype(np.float32) - 0.5\n",
        "    b1 = np.random.rand(10, 1).astype(np.float32) - 0.5\n",
        "    W2 = np.random.rand(10, 10).astype(np.float32) - 0.5\n",
        "    b2 = np.random.rand(10, 1).astype(np.float32) - 0.5\n",
        "    return W1, b1, W2, b2\n",
        "\n",
        "def ReLU(Z):\n",
        "    return np.maximum(Z, 0).astype(np.float32)\n",
        "\n",
        "def softmax(Z):\n",
        "    exp_Z = np.exp(Z - np.max(Z, axis=0, keepdims=True))\n",
        "    return exp_Z / np.sum(exp_Z, axis=0, keepdims=True)\n",
        "\n",
        "def forward_prop(W1, b1, W2, b2, X):\n",
        "    Z1 = W1.dot(X) + b1\n",
        "    A1 = ReLU(Z1)\n",
        "    Z2 = W2.dot(A1) + b2\n",
        "    A2 = softmax(Z2)\n",
        "    return Z1, A1, Z2, A2\n",
        "\n",
        "def ReLU_deriv(Z):\n",
        "    return (Z > 0).astype(np.float32)\n",
        "def one_hot(Y):\n",
        "    Y = Y.astype(np.int32)\n",
        "    one_hot_Y = np.zeros((Y.size, Y.max() + 1), dtype=np.float32)\n",
        "    one_hot_Y[np.arange(Y.size), Y] = 1\n",
        "    return one_hot_Y.T\n",
        "\n",
        "def backward_prop(Z1, A1, Z2, A2, W1, W2, X, Y):\n",
        "    m = Y.size\n",
        "    one_hot_Y = one_hot(Y)\n",
        "    dZ2 = A2 - one_hot_Y\n",
        "    dW2 = (1 / m) * dZ2.dot(A1.T)\n",
        "    db2 = (1 / m) * np.sum(dZ2, axis=1, keepdims=True)\n",
        "    dZ1 = W2.T.dot(dZ2) * ReLU_deriv(Z1)\n",
        "    dW1 = (1 / m) * dZ1.dot(X.T)\n",
        "    db1 = (1 / m) * np.sum(dZ1, axis=1, keepdims=True)\n",
        "    return dW1, db1, dW2, db2\n",
        "\n",
        "def update_params(W1, b1, W2, b2, dW1, db1, dW2, db2, alpha):\n",
        "    W1 -= alpha * dW1\n",
        "    b1 -= alpha * db1\n",
        "    W2 -= alpha * dW2\n",
        "    b2 -= alpha * db2\n",
        "    return W1, b1, W2, b2"
      ],
      "metadata": {
        "id": "IouSRbhC4mlt"
      },
      "execution_count": 65,
      "outputs": []
    },
    {
      "cell_type": "code",
      "source": [
        "def get_predictions(A2):\n",
        "    return np.argmax(A2, axis=0)\n",
        "\n",
        "def get_accuracy(predictions, Y):\n",
        "    return np.mean(predictions == Y)\n",
        "\n",
        "def gradient_descent(X, Y, alpha, iterations):\n",
        "    W1, b1, W2, b2 = init_params()\n",
        "    for i in range(iterations):\n",
        "        Z1, A1, Z2, A2 = forward_prop(W1, b1, W2, b2, X)\n",
        "        dW1, db1, dW2, db2 = backward_prop(Z1, A1, Z2, A2, W1, W2, X, Y)\n",
        "        W1, b1, W2, b2 = update_params(W1, b1, W2, b2, dW1, db1, dW2, db2, alpha)\n",
        "        if i % 10 == 0:\n",
        "            print(\"Iteration:\", i)\n",
        "            predictions = get_predictions(A2)\n",
        "            print(\"Accuracy:\", get_accuracy(predictions, Y))\n",
        "    return W1, b1, W2, b2"
      ],
      "metadata": {
        "id": "NwaiRVMI4pKw"
      },
      "execution_count": 66,
      "outputs": []
    },
    {
      "cell_type": "code",
      "source": [
        "W1, b1, W2, b2 = gradient_descent(X_train, Y_train, 0.10, 500)"
      ],
      "metadata": {
        "colab": {
          "base_uri": "https://localhost:8080/"
        },
        "id": "fGtNRYL54rFP",
        "outputId": "c7747296-4c09-4740-c6b0-15892e3b2e64"
      },
      "execution_count": 68,
      "outputs": [
        {
          "output_type": "stream",
          "name": "stdout",
          "text": [
            "Iteration: 0\n",
            "Accuracy: 0.10485507246376811\n",
            "Iteration: 10\n",
            "Accuracy: 0.1507391304347826\n",
            "Iteration: 20\n",
            "Accuracy: 0.2766521739130435\n",
            "Iteration: 30\n",
            "Accuracy: 0.3337971014492754\n",
            "Iteration: 40\n",
            "Accuracy: 0.4345072463768116\n",
            "Iteration: 50\n",
            "Accuracy: 0.4979710144927536\n",
            "Iteration: 60\n",
            "Accuracy: 0.5378260869565218\n",
            "Iteration: 70\n",
            "Accuracy: 0.562536231884058\n",
            "Iteration: 80\n",
            "Accuracy: 0.579304347826087\n",
            "Iteration: 90\n",
            "Accuracy: 0.5918840579710145\n",
            "Iteration: 100\n",
            "Accuracy: 0.6029565217391304\n",
            "Iteration: 110\n",
            "Accuracy: 0.6121159420289856\n",
            "Iteration: 120\n",
            "Accuracy: 0.6192898550724638\n",
            "Iteration: 130\n",
            "Accuracy: 0.6263188405797101\n",
            "Iteration: 140\n",
            "Accuracy: 0.6340434782608696\n",
            "Iteration: 150\n",
            "Accuracy: 0.6404347826086957\n",
            "Iteration: 160\n",
            "Accuracy: 0.6476086956521739\n",
            "Iteration: 170\n",
            "Accuracy: 0.6446376811594203\n",
            "Iteration: 180\n",
            "Accuracy: 0.6380144927536232\n",
            "Iteration: 190\n",
            "Accuracy: 0.6418260869565218\n",
            "Iteration: 200\n",
            "Accuracy: 0.6453623188405797\n",
            "Iteration: 210\n",
            "Accuracy: 0.6487391304347826\n",
            "Iteration: 220\n",
            "Accuracy: 0.6514927536231884\n",
            "Iteration: 230\n",
            "Accuracy: 0.6562753623188405\n",
            "Iteration: 240\n",
            "Accuracy: 0.6632898550724637\n",
            "Iteration: 250\n",
            "Accuracy: 0.669608695652174\n",
            "Iteration: 260\n",
            "Accuracy: 0.6744202898550725\n",
            "Iteration: 270\n",
            "Accuracy: 0.6788695652173913\n",
            "Iteration: 280\n",
            "Accuracy: 0.6835507246376812\n",
            "Iteration: 290\n",
            "Accuracy: 0.6870724637681159\n",
            "Iteration: 300\n",
            "Accuracy: 0.690463768115942\n",
            "Iteration: 310\n",
            "Accuracy: 0.6943333333333334\n",
            "Iteration: 320\n",
            "Accuracy: 0.6972898550724638\n",
            "Iteration: 330\n",
            "Accuracy: 0.7004347826086956\n",
            "Iteration: 340\n",
            "Accuracy: 0.7034782608695652\n",
            "Iteration: 350\n",
            "Accuracy: 0.7060289855072464\n",
            "Iteration: 360\n",
            "Accuracy: 0.7086086956521739\n",
            "Iteration: 370\n",
            "Accuracy: 0.7109710144927536\n",
            "Iteration: 380\n",
            "Accuracy: 0.7131304347826087\n",
            "Iteration: 390\n",
            "Accuracy: 0.7152028985507246\n",
            "Iteration: 400\n",
            "Accuracy: 0.7170869565217391\n",
            "Iteration: 410\n",
            "Accuracy: 0.7190579710144928\n",
            "Iteration: 420\n",
            "Accuracy: 0.7211159420289855\n",
            "Iteration: 430\n",
            "Accuracy: 0.7226086956521739\n",
            "Iteration: 440\n",
            "Accuracy: 0.724231884057971\n",
            "Iteration: 450\n",
            "Accuracy: 0.7260869565217392\n",
            "Iteration: 460\n",
            "Accuracy: 0.7275507246376811\n",
            "Iteration: 470\n",
            "Accuracy: 0.7290144927536232\n",
            "Iteration: 480\n",
            "Accuracy: 0.7301449275362318\n",
            "Iteration: 490\n",
            "Accuracy: 0.7313478260869565\n"
          ]
        }
      ]
    },
    {
      "cell_type": "code",
      "source": [
        "def make_predictions(X, W1, b1, W2, b2):\n",
        "    _, _, _, A2 = forward_prop(W1, b1, W2, b2, X)\n",
        "    predictions = get_predictions(A2)\n",
        "    return predictions\n",
        "\n",
        "def test_prediction(index, W1, b1, W2, b2):\n",
        "    current_image = X_train[:, index, None]\n",
        "    prediction = make_predictions(X_train[:, index, None], W1, b1, W2, b2)\n",
        "    label = Y_train[index]\n",
        "    print(\"Prediction: \", prediction)\n",
        "    print(\"Label: \", label)\n",
        "\n",
        "    current_image = current_image.reshape((28, 28)) * 255\n",
        "    plt.gray()\n",
        "    plt.imshow(current_image, interpolation='nearest')\n",
        "    plt.show()"
      ],
      "metadata": {
        "id": "2SrDHdfd4su3"
      },
      "execution_count": 69,
      "outputs": []
    },
    {
      "cell_type": "code",
      "source": [
        "test_prediction(0, W1, b1, W2, b2)\n",
        "test_prediction(1, W1, b1, W2, b2)\n",
        "test_prediction(2, W1, b1, W2, b2)\n",
        "test_prediction(3, W1, b1, W2, b2)"
      ],
      "metadata": {
        "colab": {
          "base_uri": "https://localhost:8080/",
          "height": 1000
        },
        "id": "5hj0exnK4wMf",
        "outputId": "49fed418-fc51-49cd-cd18-addec081887d"
      },
      "execution_count": 70,
      "outputs": [
        {
          "output_type": "stream",
          "name": "stdout",
          "text": [
            "Prediction:  [5]\n",
            "Label:  5.0\n"
          ]
        },
        {
          "output_type": "display_data",
          "data": {
            "text/plain": [
              "<Figure size 640x480 with 1 Axes>"
            ],
            "image/png": "[encoded data removed]"
          },
          "metadata": {}
        },
        {
          "output_type": "stream",
          "name": "stdout",
          "text": [
            "Prediction:  [5]\n",
            "Label:  5.0\n"
          ]
        },
        {
          "output_type": "display_data",
          "data": {
            "text/plain": [
              "<Figure size 640x480 with 1 Axes>"
            ],
            "image/png": "[encoded data removed]"
          },
          "metadata": {}
        },
        {
          "output_type": "stream",
          "name": "stdout",
          "text": [
            "Prediction:  [3]\n",
            "Label:  6.0\n"
          ]
        },
        {
          "output_type": "display_data",
          "data": {
            "text/plain": [
              "<Figure size 640x480 with 1 Axes>"
            ],
            "image/png": "[encoded data removed]"
          },
          "metadata": {}
        },
        {
          "output_type": "stream",
          "name": "stdout",
          "text": [
            "Prediction:  [9]\n",
            "Label:  9.0\n"
          ]
        },
        {
          "output_type": "display_data",
          "data": {
            "text/plain": [
              "<Figure size 640x480 with 1 Axes>"
            ],
            "image/png": "[encoded data removed]"
          },
          "metadata": {}
        }
      ]
    },
    {
      "cell_type": "code",
      "source": [
        "dev_predictions = make_predictions(X_dev, W1, b1, W2, b2)\n",
        "get_accuracy(dev_predictions, Y_dev)"
      ],
      "metadata": {
        "colab": {
          "base_uri": "https://localhost:8080/"
        },
        "id": "wWQntzXz4yif",
        "outputId": "7d4f1cd7-7039-422c-eaf3-ebbd517677af"
      },
      "execution_count": 71,
      "outputs": [
        {
          "output_type": "execute_result",
          "data": {
            "text/plain": [
              "0.734"
            ]
          },
          "metadata": {},
          "execution_count": 71
        }
      ]
    },
    {
      "cell_type": "code",
      "source": [],
      "metadata": {
        "id": "8DYoynRg44Ov"
      },
      "execution_count": null,
      "outputs": []
    }
  ]
}